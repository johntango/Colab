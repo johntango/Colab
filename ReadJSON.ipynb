{
  "nbformat": 4,
  "nbformat_minor": 0,
  "metadata": {
    "colab": {
      "provenance": [],
      "authorship_tag": "ABX9TyPHDrMjkuUDpAPT5QxrPESy",
      "include_colab_link": true
    },
    "kernelspec": {
      "name": "python3",
      "display_name": "Python 3"
    },
    "language_info": {
      "name": "python"
    }
  },
  "cells": [
    {
      "cell_type": "markdown",
      "metadata": {
        "id": "view-in-github",
        "colab_type": "text"
      },
      "source": [
        "<a href=\"https://colab.research.google.com/github/johntango/Colab/blob/master/ReadJSON.ipynb\" target=\"_parent\"><img src=\"https://colab.research.google.com/assets/colab-badge.svg\" alt=\"Open In Colab\"/></a>"
      ]
    },
    {
      "cell_type": "code",
      "execution_count": 14,
      "metadata": {
        "colab": {
          "base_uri": "https://localhost:8080/"
        },
        "id": "FULmCTcAInX4",
        "outputId": "daf4f5a4-8ab8-4033-cd60-cb2fe8cebd02"
      },
      "outputs": [
        {
          "output_type": "stream",
          "name": "stdout",
          "text": [
            "   0                                     1   2           3       4   \\\n",
            "0   1  17439B12-1A55-4B6A-980E-5BAC15841AC4   1  1426008064  525314   \n",
            "1   2  EA2E2977-1FBA-4254-A2A9-855FA012565E   2  1426008064  525314   \n",
            "2   3  08FF3561-CE31-4BEB-AFD8-6DC47AC3C557   3  1426008064  525314   \n",
            "3   4  AE0A5BEF-F80F-4BD6-938C-37A639AB5400   4  1426008064  525314   \n",
            "4   5  72AD83C0-C652-4580-B9C3-F7304CB396A4   5  1426008064  525314   \n",
            "\n",
            "           5       6     7                          8   \\\n",
            "0  1426008064  525314  {\\n}           Adario,Anthony J   \n",
            "1  1426008064  525314  {\\n}         Baker,Katherine E.   \n",
            "2  1426008064  525314  {\\n}             Braga,Ann Hess   \n",
            "3  1426008064  525314  {\\n}       Calobrisi,Jane Ellen   \n",
            "4  1426008064  525314  {\\n}  Castillo-Cook,Wendolyn M.   \n",
            "\n",
            "                              9                    10        11    12  \\\n",
            "0   Supvising Claims Agent (Asd)  ASD Human Resources  98538.32  0.00   \n",
            "1             Nurse Case Manager  ASD Human Resources  83942.21  0.00   \n",
            "2  HumanResourcesComplianceOffcr  ASD Human Resources  98538.34  0.00   \n",
            "3              Personnel Analyst  ASD Human Resources  70073.81  0.00   \n",
            "4              Alcholism Coord I  ASD Human Resources  79253.11  0.00   \n",
            "\n",
            "        13    14    15    16    17         18     19  \n",
            "0  1842.87  0.00  0.00  0.00  0.00  100381.19  02132  \n",
            "1   225.00  0.00  0.00  0.00  0.00   84167.21  02136  \n",
            "2     0.00  0.00  0.00  0.00  0.00   98538.34  02126  \n",
            "3   225.00  0.00  0.00  0.00  0.00   70298.81  02090  \n",
            "4     0.00  0.00  0.00  0.00  0.00   79253.11  02121  \n"
          ]
        }
      ],
      "source": [
        "# import urllib library\n",
        "from urllib.request import urlopen\n",
        "\n",
        "# import json\n",
        "import json\n",
        "import pandas as pd\n",
        "# store the URL in url as \n",
        "# parameter for urlopen\n",
        "url = \"https://pollysnips.s3.amazonaws.com/bostonEmployeeSalaries.json\"\n",
        "#test on the small data below\n",
        "#url = \"https://pollysnips.s3.amazonaws.com/contacts.json\"\n",
        "# store the response of URL\n",
        "response = urlopen(url)\n",
        "  \n",
        "# storing the JSON response \n",
        "# from url in data\n",
        "data_json = json.loads(response.read())\n",
        "\n",
        "df = pd.DataFrame(data_json[\"data\"])\n",
        "df.to_csv(\"bostonEmployeeSalaries.csv\", index=False)\n",
        "# print the json response\n",
        "print(df.head())\n",
        "#print(df)"
      ]
    }
  ]
}